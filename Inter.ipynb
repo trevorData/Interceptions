{
 "cells": [
  {
   "cell_type": "code",
   "execution_count": 585,
   "metadata": {},
   "outputs": [],
   "source": [
    "import pandas as pd"
   ]
  },
  {
   "cell_type": "code",
   "execution_count": 789,
   "metadata": {},
   "outputs": [],
   "source": [
    "filepath = 'C:/Users/trevor.krause/Documents/Projects/Interceptions/'"
   ]
  },
  {
   "cell_type": "code",
   "execution_count": 592,
   "metadata": {},
   "outputs": [],
   "source": [
    "df = pd.read_csv(filepath + '2019data.csv', low_memory=False)"
   ]
  },
  {
   "cell_type": "code",
   "execution_count": 593,
   "metadata": {},
   "outputs": [],
   "source": [
    "players = pd.read_csv(filepath + 'players.csv')"
   ]
  },
  {
   "cell_type": "code",
   "execution_count": 594,
   "metadata": {},
   "outputs": [
    {
     "data": {
      "text/plain": [
       "['Unnamed: 0',\n",
       " 'Date',\n",
       " 'GameID',\n",
       " 'play_id',\n",
       " 'Drive',\n",
       " 'qtr',\n",
       " 'down',\n",
       " 'time',\n",
       " 'TimeUnder',\n",
       " 'TimeSecs',\n",
       " 'PlayTimeDiff',\n",
       " 'SideofField',\n",
       " 'yrdln',\n",
       " 'yrdline100',\n",
       " 'ydstogo',\n",
       " 'ydsnet',\n",
       " 'GoalToGo',\n",
       " 'FirstDown',\n",
       " 'posteam',\n",
       " 'DefensiveTeam',\n",
       " 'desc',\n",
       " 'PlayAttempted',\n",
       " 'Yards.Gained',\n",
       " 'sp',\n",
       " 'Touchdown',\n",
       " 'ExPointResult',\n",
       " 'TwoPointConv',\n",
       " 'DefTwoPoint',\n",
       " 'Safety',\n",
       " 'Onsidekick',\n",
       " 'PuntResult',\n",
       " 'PlayType',\n",
       " 'Passer',\n",
       " 'Passer_ID',\n",
       " 'PassAttempt',\n",
       " 'PassOutcome',\n",
       " 'PassLength',\n",
       " 'AirYards',\n",
       " 'YardsAfterCatch',\n",
       " 'QBHit',\n",
       " 'PassLocation',\n",
       " 'InterceptionThrown',\n",
       " 'Interceptor',\n",
       " 'Rusher',\n",
       " 'Rusher_ID',\n",
       " 'RushAttempt',\n",
       " 'RunLocation',\n",
       " 'RunGap',\n",
       " 'Receiver',\n",
       " 'Receiver_ID',\n",
       " 'Reception',\n",
       " 'ReturnResult',\n",
       " 'Returner',\n",
       " 'BlockingPlayer',\n",
       " 'Tackler1',\n",
       " 'Tackler2',\n",
       " 'FieldGoalResult',\n",
       " 'FieldGoalDistance',\n",
       " 'Fumble',\n",
       " 'RecFumbTeam',\n",
       " 'RecFumbPlayer',\n",
       " 'Sack',\n",
       " 'Challenge.Replay',\n",
       " 'ChalReplayResult',\n",
       " 'Accepted.Penalty',\n",
       " 'PenalizedTeam',\n",
       " 'PenaltyType',\n",
       " 'PenalizedPlayer',\n",
       " 'Penalty.Yards',\n",
       " 'PosTeamScore',\n",
       " 'DefTeamScore',\n",
       " 'ScoreDiff',\n",
       " 'AbsScoreDiff',\n",
       " 'HomeTeam',\n",
       " 'AwayTeam',\n",
       " 'Timeout_Indicator',\n",
       " 'Timeout_Team',\n",
       " 'posteam_timeouts_pre',\n",
       " 'HomeTimeouts_Remaining_Pre',\n",
       " 'AwayTimeouts_Remaining_Pre',\n",
       " 'HomeTimeouts_Remaining_Post',\n",
       " 'AwayTimeouts_Remaining_Post',\n",
       " 'No_Score_Prob',\n",
       " 'Opp_Field_Goal_Prob',\n",
       " 'Opp_Safety_Prob',\n",
       " 'Opp_Touchdown_Prob',\n",
       " 'Field_Goal_Prob',\n",
       " 'Safety_Prob',\n",
       " 'Touchdown_Prob',\n",
       " 'ExPoint_Prob',\n",
       " 'TwoPoint_Prob',\n",
       " 'ExpPts',\n",
       " 'EPA',\n",
       " 'airEPA',\n",
       " 'yacEPA',\n",
       " 'Home_WP_pre',\n",
       " 'Away_WP_pre',\n",
       " 'Home_WP_post',\n",
       " 'Away_WP_post',\n",
       " 'Win_Prob',\n",
       " 'WPA',\n",
       " 'airWPA',\n",
       " 'yacWPA',\n",
       " 'Season']"
      ]
     },
     "execution_count": 594,
     "metadata": {},
     "output_type": "execute_result"
    }
   ],
   "source": [
    "df.columns.tolist()"
   ]
  },
  {
   "cell_type": "code",
   "execution_count": 595,
   "metadata": {},
   "outputs": [],
   "source": [
    "# the PBP data addresses players by first initial and last name\n",
    "# so we need to check if there are any players with similar names that would cause issues\n",
    "dups = players.groupby(['name', 'Team'], as_index=False).agg({'Player': 'count'})"
   ]
  },
  {
   "cell_type": "code",
   "execution_count": 598,
   "metadata": {},
   "outputs": [
    {
     "data": {
      "text/html": [
       "<div>\n",
       "<style scoped>\n",
       "    .dataframe tbody tr th:only-of-type {\n",
       "        vertical-align: middle;\n",
       "    }\n",
       "\n",
       "    .dataframe tbody tr th {\n",
       "        vertical-align: top;\n",
       "    }\n",
       "\n",
       "    .dataframe thead th {\n",
       "        text-align: right;\n",
       "    }\n",
       "</style>\n",
       "<table border=\"1\" class=\"dataframe\">\n",
       "  <thead>\n",
       "    <tr style=\"text-align: right;\">\n",
       "      <th></th>\n",
       "      <th>name</th>\n",
       "      <th>Team</th>\n",
       "      <th>Player</th>\n",
       "    </tr>\n",
       "  </thead>\n",
       "  <tbody>\n",
       "    <tr>\n",
       "      <th>145</th>\n",
       "      <td>C.Covington</td>\n",
       "      <td>DAL</td>\n",
       "      <td>2</td>\n",
       "    </tr>\n",
       "    <tr>\n",
       "      <th>146</th>\n",
       "      <td>C.Davis</td>\n",
       "      <td>JAX</td>\n",
       "      <td>2</td>\n",
       "    </tr>\n",
       "    <tr>\n",
       "      <th>162</th>\n",
       "      <td>C.Jones</td>\n",
       "      <td>ARI</td>\n",
       "      <td>2</td>\n",
       "    </tr>\n",
       "    <tr>\n",
       "      <th>832</th>\n",
       "      <td>S.Griffin</td>\n",
       "      <td>SEA</td>\n",
       "      <td>2</td>\n",
       "    </tr>\n",
       "    <tr>\n",
       "      <th>940</th>\n",
       "      <td>T.Williams</td>\n",
       "      <td>GB</td>\n",
       "      <td>2</td>\n",
       "    </tr>\n",
       "  </tbody>\n",
       "</table>\n",
       "</div>"
      ],
      "text/plain": [
       "            name Team  Player\n",
       "145  C.Covington  DAL       2\n",
       "146      C.Davis  JAX       2\n",
       "162      C.Jones  ARI       2\n",
       "832    S.Griffin  SEA       2\n",
       "940   T.Williams   GB       2"
      ]
     },
     "execution_count": 598,
     "metadata": {},
     "output_type": "execute_result"
    }
   ],
   "source": [
    "# These are players with the same name abbreviations that are on the same team\n",
    "dups[dups['Player'] > 1]"
   ]
  },
  {
   "cell_type": "code",
   "execution_count": 599,
   "metadata": {},
   "outputs": [
    {
     "data": {
      "text/html": [
       "<div>\n",
       "<style scoped>\n",
       "    .dataframe tbody tr th:only-of-type {\n",
       "        vertical-align: middle;\n",
       "    }\n",
       "\n",
       "    .dataframe tbody tr th {\n",
       "        vertical-align: top;\n",
       "    }\n",
       "\n",
       "    .dataframe thead th {\n",
       "        text-align: right;\n",
       "    }\n",
       "</style>\n",
       "<table border=\"1\" class=\"dataframe\">\n",
       "  <thead>\n",
       "    <tr style=\"text-align: right;\">\n",
       "      <th></th>\n",
       "      <th>Interceptor</th>\n",
       "      <th>DefensiveTeam</th>\n",
       "    </tr>\n",
       "  </thead>\n",
       "  <tbody>\n",
       "    <tr>\n",
       "      <th>19498</th>\n",
       "      <td>C.Davis</td>\n",
       "      <td>TB</td>\n",
       "    </tr>\n",
       "    <tr>\n",
       "      <th>19499</th>\n",
       "      <td>C.Davis</td>\n",
       "      <td>TB</td>\n",
       "    </tr>\n",
       "    <tr>\n",
       "      <th>25884</th>\n",
       "      <td>T.Williams</td>\n",
       "      <td>GB</td>\n",
       "    </tr>\n",
       "    <tr>\n",
       "      <th>29863</th>\n",
       "      <td>C.Davis</td>\n",
       "      <td>TB</td>\n",
       "    </tr>\n",
       "    <tr>\n",
       "      <th>33103</th>\n",
       "      <td>T.Williams</td>\n",
       "      <td>GB</td>\n",
       "    </tr>\n",
       "  </tbody>\n",
       "</table>\n",
       "</div>"
      ],
      "text/plain": [
       "      Interceptor DefensiveTeam\n",
       "19498     C.Davis            TB\n",
       "19499     C.Davis            TB\n",
       "25884  T.Williams            GB\n",
       "29863     C.Davis            TB\n",
       "33103  T.Williams            GB"
      ]
     },
     "execution_count": 599,
     "metadata": {},
     "output_type": "execute_result"
    }
   ],
   "source": [
    "# T. Williams is the only of these to record an INT\n",
    "# these were both Tramon, not Tim\n",
    "df[df['Interceptor'].isin(dups[dups['Player'] > 1]['name'].tolist())][['Interceptor', 'DefensiveTeam']]"
   ]
  },
  {
   "cell_type": "code",
   "execution_count": 600,
   "metadata": {},
   "outputs": [],
   "source": [
    "# so we get rid of Tim\n",
    "players = players[players['Player'] != 'Tim Williams']"
   ]
  },
  {
   "cell_type": "markdown",
   "metadata": {},
   "source": [
    "##### Defining an int"
   ]
  },
  {
   "cell_type": "code",
   "execution_count": 601,
   "metadata": {},
   "outputs": [],
   "source": [
    "# limit to plays where an INT was thrown\n",
    "ints = df[df['InterceptionThrown'] == 1]"
   ]
  },
  {
   "cell_type": "code",
   "execution_count": 602,
   "metadata": {},
   "outputs": [
    {
     "data": {
      "text/plain": [
       "439"
      ]
     },
     "execution_count": 602,
     "metadata": {},
     "output_type": "execute_result"
    }
   ],
   "source": [
    "len(ints[(ints['ChalReplayResult'] != 'Reversed')])"
   ]
  },
  {
   "cell_type": "code",
   "execution_count": 603,
   "metadata": {},
   "outputs": [
    {
     "data": {
      "text/plain": [
       "21"
      ]
     },
     "execution_count": 603,
     "metadata": {},
     "output_type": "execute_result"
    }
   ],
   "source": [
    "len(ints[(ints['ChalReplayResult'] == 'Reversed')])"
   ]
  },
  {
   "cell_type": "code",
   "execution_count": 604,
   "metadata": {
    "scrolled": true
   },
   "outputs": [
    {
     "data": {
      "text/plain": [
       "4"
      ]
     },
     "execution_count": 604,
     "metadata": {},
     "output_type": "execute_result"
    }
   ],
   "source": [
    "# Of plays where ChalReplayResult == 'Reversed':\n",
    "# 'No Play' at end of desc and/or official review reversing the INT means the play was not an INT. \n",
    "# Everything else is an INT \n",
    "\n",
    "# These are the 4 INTs\n",
    "len(ints[(ints['ChalReplayResult'] == 'Reversed') & \n",
    "         ~((ints['desc'].str.contains('interception ruling, and the play was REVERSED')) | \n",
    "           (ints['desc'].str[-8:].str.contains('No Play.')))])"
   ]
  },
  {
   "cell_type": "code",
   "execution_count": 605,
   "metadata": {},
   "outputs": [],
   "source": [
    "# create a condition to represent this\n",
    "rev_stand = ((ints['ChalReplayResult'] == 'Reversed') & \\\n",
    "            ~((ints['desc'].str.contains('interception ruling, and the play was REVERSED')) | \\\n",
    "              (ints['desc'].str[-8:].str.contains('No Play.'))))"
   ]
  },
  {
   "cell_type": "code",
   "execution_count": 606,
   "metadata": {},
   "outputs": [
    {
     "data": {
      "text/plain": [
       "439"
      ]
     },
     "execution_count": 606,
     "metadata": {},
     "output_type": "execute_result"
    }
   ],
   "source": [
    "# of the 439 remaining with no reversal, the only thing that would nullify the INT is a penalty killing the play\n",
    "len(ints[(ints['ChalReplayResult'] != 'Reversed')])"
   ]
  },
  {
   "cell_type": "code",
   "execution_count": 607,
   "metadata": {},
   "outputs": [],
   "source": [
    "# this is represented by \"No Play\" in the desc\n",
    "np = ((ints['ChalReplayResult'] != 'Reversed') & ~(ints['desc'].str.contains('No Play')))"
   ]
  },
  {
   "cell_type": "code",
   "execution_count": 608,
   "metadata": {},
   "outputs": [
    {
     "data": {
      "text/plain": [
       "410"
      ]
     },
     "execution_count": 608,
     "metadata": {},
     "output_type": "execute_result"
    }
   ],
   "source": [
    "# combining these conditions together gives us 410, which is the proper number according to profootballref\n",
    "len(ints[rev_stand | np])"
   ]
  },
  {
   "cell_type": "code",
   "execution_count": 609,
   "metadata": {},
   "outputs": [],
   "source": [
    "ints_full = ints[rev_stand | np]"
   ]
  },
  {
   "cell_type": "code",
   "execution_count": 626,
   "metadata": {},
   "outputs": [],
   "source": [
    "# add interceptor full names and positions to the interception data\n",
    "full = ints_full.merge(players[['Team', 'Pos', 'name', 'Player']].\\\n",
    "                       rename(columns={'Team':'DefensiveTeam', 'name': 'Interceptor'}), \n",
    "                       on=['DefensiveTeam', 'Interceptor'], how='left')"
   ]
  },
  {
   "cell_type": "markdown",
   "metadata": {},
   "source": [
    "#### fix positions"
   ]
  },
  {
   "cell_type": "code",
   "execution_count": 627,
   "metadata": {},
   "outputs": [
    {
     "data": {
      "text/plain": [
       "CB     146\n",
       "FS      67\n",
       "SS      44\n",
       "DB      35\n",
       "OLB     30\n",
       "LB      21\n",
       "MLB     19\n",
       "ILB     11\n",
       "DE      10\n",
       "DT       4\n",
       "SAF      3\n",
       "NT       1\n",
       "Name: Pos, dtype: int64"
      ]
     },
     "execution_count": 627,
     "metadata": {},
     "output_type": "execute_result"
    }
   ],
   "source": [
    "full['Pos'].value_counts()"
   ]
  },
  {
   "cell_type": "code",
   "execution_count": 628,
   "metadata": {},
   "outputs": [],
   "source": [
    "# create empty column where simplified position will be stored\n",
    "full.loc[:, 'pos_abb'] = 'NA'"
   ]
  },
  {
   "cell_type": "code",
   "execution_count": 629,
   "metadata": {},
   "outputs": [],
   "source": [
    "# defensive backs\n",
    "full.loc[(full.loc[:, 'Pos'] == 'CB') | \n",
    "         (full.loc[:, 'Pos'] == 'FS') | \n",
    "         (full.loc[:, 'Pos'] == 'SS') | \n",
    "         (full.loc[:, 'Pos'] == 'DB') |\n",
    "         (full.loc[:, 'Pos'] == 'SAF'), 'pos_abb'] = 'DB'"
   ]
  },
  {
   "cell_type": "code",
   "execution_count": 630,
   "metadata": {},
   "outputs": [],
   "source": [
    "# linebackers\n",
    "full.loc[(full.loc[:, 'Pos'] == 'OLB') | \n",
    "         (full.loc[:, 'Pos'] == 'ILB') | \n",
    "         (full.loc[:, 'Pos'] == 'LB') | \n",
    "         (full.loc[:, 'Pos'] == 'MLB'), 'pos_abb'] = 'LB'"
   ]
  },
  {
   "cell_type": "code",
   "execution_count": 631,
   "metadata": {},
   "outputs": [],
   "source": [
    "# defensive lineman\n",
    "full.loc[(full.loc[:, 'Pos'] == 'DE') | \n",
    "         (full.loc[:, 'Pos'] == 'DT') | \n",
    "         (full.loc[:, 'Pos'] == 'NT'), 'pos_abb'] = 'DL'"
   ]
  },
  {
   "cell_type": "code",
   "execution_count": 633,
   "metadata": {},
   "outputs": [
    {
     "data": {
      "text/html": [
       "<div>\n",
       "<style scoped>\n",
       "    .dataframe tbody tr th:only-of-type {\n",
       "        vertical-align: middle;\n",
       "    }\n",
       "\n",
       "    .dataframe tbody tr th {\n",
       "        vertical-align: top;\n",
       "    }\n",
       "\n",
       "    .dataframe thead th {\n",
       "        text-align: right;\n",
       "    }\n",
       "</style>\n",
       "<table border=\"1\" class=\"dataframe\">\n",
       "  <thead>\n",
       "    <tr style=\"text-align: right;\">\n",
       "      <th></th>\n",
       "      <th>Interceptor</th>\n",
       "      <th>DefensiveTeam</th>\n",
       "    </tr>\n",
       "  </thead>\n",
       "  <tbody>\n",
       "    <tr>\n",
       "      <th>14</th>\n",
       "      <td>V.Hargreaves</td>\n",
       "      <td>TB</td>\n",
       "    </tr>\n",
       "    <tr>\n",
       "      <th>75</th>\n",
       "      <td>Ja.Jenkins</td>\n",
       "      <td>NYG</td>\n",
       "    </tr>\n",
       "    <tr>\n",
       "      <th>76</th>\n",
       "      <td>Ja.Jenkins</td>\n",
       "      <td>NYG</td>\n",
       "    </tr>\n",
       "    <tr>\n",
       "      <th>80</th>\n",
       "      <td>M.Canady</td>\n",
       "      <td>BAL</td>\n",
       "    </tr>\n",
       "    <tr>\n",
       "      <th>82</th>\n",
       "      <td>D.Lawrence</td>\n",
       "      <td>CLE</td>\n",
       "    </tr>\n",
       "    <tr>\n",
       "      <th>91</th>\n",
       "      <td>M.Peters</td>\n",
       "      <td>LA</td>\n",
       "    </tr>\n",
       "    <tr>\n",
       "      <th>106</th>\n",
       "      <td>S.Bunting</td>\n",
       "      <td>TB</td>\n",
       "    </tr>\n",
       "    <tr>\n",
       "      <th>109</th>\n",
       "      <td>G.Conley</td>\n",
       "      <td>OAK</td>\n",
       "    </tr>\n",
       "    <tr>\n",
       "      <th>122</th>\n",
       "      <td>Ja.Jenkins</td>\n",
       "      <td>NYG</td>\n",
       "    </tr>\n",
       "    <tr>\n",
       "      <th>132</th>\n",
       "      <td>A.Sendejo</td>\n",
       "      <td>PHI</td>\n",
       "    </tr>\n",
       "    <tr>\n",
       "      <th>134</th>\n",
       "      <td>Mac.Alexander</td>\n",
       "      <td>MIN</td>\n",
       "    </tr>\n",
       "    <tr>\n",
       "      <th>143</th>\n",
       "      <td>M.Peters</td>\n",
       "      <td>LA</td>\n",
       "    </tr>\n",
       "    <tr>\n",
       "      <th>180</th>\n",
       "      <td>Ja.Jenkins</td>\n",
       "      <td>NYG</td>\n",
       "    </tr>\n",
       "    <tr>\n",
       "      <th>210</th>\n",
       "      <td>B.Murphy Jr</td>\n",
       "      <td>ARI</td>\n",
       "    </tr>\n",
       "    <tr>\n",
       "      <th>231</th>\n",
       "      <td>Ri.Allen</td>\n",
       "      <td>ATL</td>\n",
       "    </tr>\n",
       "    <tr>\n",
       "      <th>287</th>\n",
       "      <td>S.Bunting</td>\n",
       "      <td>TB</td>\n",
       "    </tr>\n",
       "    <tr>\n",
       "      <th>294</th>\n",
       "      <td>C.Lammons</td>\n",
       "      <td>MIA</td>\n",
       "    </tr>\n",
       "    <tr>\n",
       "      <th>338</th>\n",
       "      <td>S.Bunting</td>\n",
       "      <td>TB</td>\n",
       "    </tr>\n",
       "    <tr>\n",
       "      <th>401</th>\n",
       "      <td>Ri.Allen</td>\n",
       "      <td>ATL</td>\n",
       "    </tr>\n",
       "  </tbody>\n",
       "</table>\n",
       "</div>"
      ],
      "text/plain": [
       "       Interceptor DefensiveTeam\n",
       "14    V.Hargreaves            TB\n",
       "75      Ja.Jenkins           NYG\n",
       "76      Ja.Jenkins           NYG\n",
       "80        M.Canady           BAL\n",
       "82      D.Lawrence           CLE\n",
       "91        M.Peters            LA\n",
       "106      S.Bunting            TB\n",
       "109       G.Conley           OAK\n",
       "122     Ja.Jenkins           NYG\n",
       "132      A.Sendejo           PHI\n",
       "134  Mac.Alexander           MIN\n",
       "143       M.Peters            LA\n",
       "180     Ja.Jenkins           NYG\n",
       "210    B.Murphy Jr           ARI\n",
       "231       Ri.Allen           ATL\n",
       "287      S.Bunting            TB\n",
       "294      C.Lammons           MIA\n",
       "338      S.Bunting            TB\n",
       "401       Ri.Allen           ATL"
      ]
     },
     "execution_count": 633,
     "metadata": {},
     "output_type": "execute_result"
    }
   ],
   "source": [
    "# players that dont have positon listed\n",
    "full[full['pos_abb'] == 'NA'][['Interceptor', 'DefensiveTeam']]"
   ]
  },
  {
   "cell_type": "code",
   "execution_count": 640,
   "metadata": {},
   "outputs": [],
   "source": [
    "# We check profootballref and see that all of those players are DBs except for D Lawrence, who is a DL\n",
    "full.loc[full['Interceptor'] == 'D.Lawrence', 'pos_abb'] = 'DL'"
   ]
  },
  {
   "cell_type": "code",
   "execution_count": 641,
   "metadata": {},
   "outputs": [],
   "source": [
    "# after we fix him we can set the rest to DB\n",
    "full.loc[full['pos_abb'] == 'NA', 'pos_abb'] = 'DB'"
   ]
  },
  {
   "cell_type": "code",
   "execution_count": 642,
   "metadata": {},
   "outputs": [
    {
     "data": {
      "text/plain": [
       "Series([], Name: Interceptor, dtype: object)"
      ]
     },
     "execution_count": 642,
     "metadata": {},
     "output_type": "execute_result"
    }
   ],
   "source": [
    "# players that dont have positon listed - empty now\n",
    "full[full['pos_abb'] == 'NA']['Interceptor']"
   ]
  },
  {
   "cell_type": "code",
   "execution_count": 649,
   "metadata": {},
   "outputs": [],
   "source": [
    "full.loc[full['Pos'].isna(), 'Pos'] = full['pos_abb'].copy()"
   ]
  },
  {
   "cell_type": "markdown",
   "metadata": {},
   "source": [
    "##### Analysis"
   ]
  },
  {
   "cell_type": "code",
   "execution_count": 650,
   "metadata": {},
   "outputs": [
    {
     "data": {
      "text/plain": [
       "CB     146\n",
       "FS      67\n",
       "DB      53\n",
       "SS      44\n",
       "OLB     30\n",
       "LB      21\n",
       "MLB     19\n",
       "ILB     11\n",
       "DE      10\n",
       "DT       4\n",
       "SAF      3\n",
       "DL       1\n",
       "NT       1\n",
       "Name: Pos, dtype: int64"
      ]
     },
     "execution_count": 650,
     "metadata": {},
     "output_type": "execute_result"
    }
   ],
   "source": [
    "full['Pos'].value_counts()"
   ]
  },
  {
   "cell_type": "code",
   "execution_count": 651,
   "metadata": {},
   "outputs": [
    {
     "data": {
      "text/plain": [
       "DB    313\n",
       "LB     81\n",
       "DL     16\n",
       "Name: pos_abb, dtype: int64"
      ]
     },
     "execution_count": 651,
     "metadata": {},
     "output_type": "execute_result"
    }
   ],
   "source": [
    "full['pos_abb'].value_counts()"
   ]
  },
  {
   "cell_type": "code",
   "execution_count": 644,
   "metadata": {},
   "outputs": [
    {
     "data": {
      "text/plain": [
       "CB     146\n",
       "FS      67\n",
       "SS      44\n",
       "DB      35\n",
       "OLB     30\n",
       "LB      21\n",
       "MLB     19\n",
       "ILB     11\n",
       "DE      10\n",
       "DT       4\n",
       "SAF      3\n",
       "NT       1\n",
       "Name: Pos, dtype: int64"
      ]
     },
     "execution_count": 644,
     "metadata": {},
     "output_type": "execute_result"
    }
   ],
   "source": [
    "full['Pos'].value_counts()"
   ]
  },
  {
   "cell_type": "code",
   "execution_count": 652,
   "metadata": {},
   "outputs": [],
   "source": [
    "# creat dummy variables from the categorical position variables\n",
    "full[['DB', 'DL', 'LB']] = full['pos_abb'].str.get_dummies()"
   ]
  },
  {
   "cell_type": "code",
   "execution_count": 679,
   "metadata": {},
   "outputs": [],
   "source": [
    "# group by passer\n",
    "agg = \\\n",
    "full.groupby('Passer', as_index=False).\\\n",
    "    agg({'InterceptionThrown': 'count',\n",
    "         'DB': 'sum',\n",
    "         'DL': 'sum', \n",
    "         'LB': 'sum'\n",
    "        })"
   ]
  },
  {
   "cell_type": "code",
   "execution_count": 680,
   "metadata": {},
   "outputs": [],
   "source": [
    "# calculate percent from all INTs\n",
    "agg['DBper'] = agg['DB']/agg['InterceptionThrown']\n",
    "agg['LBper'] = agg['LB']/agg['InterceptionThrown']\n",
    "agg['DLper'] = agg['DL']/agg['InterceptionThrown']"
   ]
  },
  {
   "cell_type": "code",
   "execution_count": 681,
   "metadata": {},
   "outputs": [
    {
     "data": {
      "text/html": [
       "<div>\n",
       "<style scoped>\n",
       "    .dataframe tbody tr th:only-of-type {\n",
       "        vertical-align: middle;\n",
       "    }\n",
       "\n",
       "    .dataframe tbody tr th {\n",
       "        vertical-align: top;\n",
       "    }\n",
       "\n",
       "    .dataframe thead th {\n",
       "        text-align: right;\n",
       "    }\n",
       "</style>\n",
       "<table border=\"1\" class=\"dataframe\">\n",
       "  <thead>\n",
       "    <tr style=\"text-align: right;\">\n",
       "      <th></th>\n",
       "      <th>Passer</th>\n",
       "      <th>InterceptionThrown</th>\n",
       "      <th>DB</th>\n",
       "      <th>DL</th>\n",
       "      <th>LB</th>\n",
       "      <th>DBper</th>\n",
       "      <th>LBper</th>\n",
       "      <th>DLper</th>\n",
       "    </tr>\n",
       "  </thead>\n",
       "  <tbody>\n",
       "    <tr>\n",
       "      <th>0</th>\n",
       "      <td>A.Dalton</td>\n",
       "      <td>14</td>\n",
       "      <td>10</td>\n",
       "      <td>1</td>\n",
       "      <td>3</td>\n",
       "      <td>0.714286</td>\n",
       "      <td>0.214286</td>\n",
       "      <td>0.071429</td>\n",
       "    </tr>\n",
       "    <tr>\n",
       "      <th>5</th>\n",
       "      <td>B.Mayfield</td>\n",
       "      <td>21</td>\n",
       "      <td>18</td>\n",
       "      <td>1</td>\n",
       "      <td>2</td>\n",
       "      <td>0.857143</td>\n",
       "      <td>0.095238</td>\n",
       "      <td>0.047619</td>\n",
       "    </tr>\n",
       "    <tr>\n",
       "      <th>11</th>\n",
       "      <td>C.Wentz</td>\n",
       "      <td>7</td>\n",
       "      <td>7</td>\n",
       "      <td>0</td>\n",
       "      <td>0</td>\n",
       "      <td>1.000000</td>\n",
       "      <td>0.000000</td>\n",
       "      <td>0.000000</td>\n",
       "    </tr>\n",
       "    <tr>\n",
       "      <th>14</th>\n",
       "      <td>D.Carr</td>\n",
       "      <td>8</td>\n",
       "      <td>8</td>\n",
       "      <td>0</td>\n",
       "      <td>0</td>\n",
       "      <td>1.000000</td>\n",
       "      <td>0.000000</td>\n",
       "      <td>0.000000</td>\n",
       "    </tr>\n",
       "    <tr>\n",
       "      <th>15</th>\n",
       "      <td>D.Haskins</td>\n",
       "      <td>7</td>\n",
       "      <td>6</td>\n",
       "      <td>0</td>\n",
       "      <td>1</td>\n",
       "      <td>0.857143</td>\n",
       "      <td>0.142857</td>\n",
       "      <td>0.000000</td>\n",
       "    </tr>\n",
       "    <tr>\n",
       "      <th>16</th>\n",
       "      <td>D.Hodges</td>\n",
       "      <td>8</td>\n",
       "      <td>7</td>\n",
       "      <td>0</td>\n",
       "      <td>1</td>\n",
       "      <td>0.875000</td>\n",
       "      <td>0.125000</td>\n",
       "      <td>0.000000</td>\n",
       "    </tr>\n",
       "    <tr>\n",
       "      <th>18</th>\n",
       "      <td>D.Jones</td>\n",
       "      <td>12</td>\n",
       "      <td>9</td>\n",
       "      <td>1</td>\n",
       "      <td>2</td>\n",
       "      <td>0.750000</td>\n",
       "      <td>0.166667</td>\n",
       "      <td>0.083333</td>\n",
       "    </tr>\n",
       "    <tr>\n",
       "      <th>20</th>\n",
       "      <td>D.Prescott</td>\n",
       "      <td>11</td>\n",
       "      <td>10</td>\n",
       "      <td>1</td>\n",
       "      <td>0</td>\n",
       "      <td>0.909091</td>\n",
       "      <td>0.000000</td>\n",
       "      <td>0.090909</td>\n",
       "    </tr>\n",
       "    <tr>\n",
       "      <th>21</th>\n",
       "      <td>D.Watson</td>\n",
       "      <td>12</td>\n",
       "      <td>9</td>\n",
       "      <td>0</td>\n",
       "      <td>3</td>\n",
       "      <td>0.750000</td>\n",
       "      <td>0.250000</td>\n",
       "      <td>0.000000</td>\n",
       "    </tr>\n",
       "    <tr>\n",
       "      <th>24</th>\n",
       "      <td>J.Allen</td>\n",
       "      <td>9</td>\n",
       "      <td>7</td>\n",
       "      <td>0</td>\n",
       "      <td>2</td>\n",
       "      <td>0.777778</td>\n",
       "      <td>0.222222</td>\n",
       "      <td>0.000000</td>\n",
       "    </tr>\n",
       "    <tr>\n",
       "      <th>29</th>\n",
       "      <td>J.Garoppolo</td>\n",
       "      <td>13</td>\n",
       "      <td>9</td>\n",
       "      <td>0</td>\n",
       "      <td>4</td>\n",
       "      <td>0.692308</td>\n",
       "      <td>0.307692</td>\n",
       "      <td>0.000000</td>\n",
       "    </tr>\n",
       "    <tr>\n",
       "      <th>30</th>\n",
       "      <td>J.Goff</td>\n",
       "      <td>16</td>\n",
       "      <td>11</td>\n",
       "      <td>0</td>\n",
       "      <td>5</td>\n",
       "      <td>0.687500</td>\n",
       "      <td>0.312500</td>\n",
       "      <td>0.000000</td>\n",
       "    </tr>\n",
       "    <tr>\n",
       "      <th>36</th>\n",
       "      <td>J.Winston</td>\n",
       "      <td>30</td>\n",
       "      <td>20</td>\n",
       "      <td>0</td>\n",
       "      <td>10</td>\n",
       "      <td>0.666667</td>\n",
       "      <td>0.333333</td>\n",
       "      <td>0.000000</td>\n",
       "    </tr>\n",
       "    <tr>\n",
       "      <th>37</th>\n",
       "      <td>K.Allen</td>\n",
       "      <td>16</td>\n",
       "      <td>10</td>\n",
       "      <td>1</td>\n",
       "      <td>5</td>\n",
       "      <td>0.625000</td>\n",
       "      <td>0.312500</td>\n",
       "      <td>0.062500</td>\n",
       "    </tr>\n",
       "    <tr>\n",
       "      <th>39</th>\n",
       "      <td>K.Murray</td>\n",
       "      <td>12</td>\n",
       "      <td>9</td>\n",
       "      <td>1</td>\n",
       "      <td>2</td>\n",
       "      <td>0.750000</td>\n",
       "      <td>0.166667</td>\n",
       "      <td>0.083333</td>\n",
       "    </tr>\n",
       "    <tr>\n",
       "      <th>44</th>\n",
       "      <td>M.Rudolph</td>\n",
       "      <td>9</td>\n",
       "      <td>7</td>\n",
       "      <td>0</td>\n",
       "      <td>2</td>\n",
       "      <td>0.777778</td>\n",
       "      <td>0.222222</td>\n",
       "      <td>0.000000</td>\n",
       "    </tr>\n",
       "    <tr>\n",
       "      <th>45</th>\n",
       "      <td>M.Ryan</td>\n",
       "      <td>14</td>\n",
       "      <td>11</td>\n",
       "      <td>1</td>\n",
       "      <td>2</td>\n",
       "      <td>0.785714</td>\n",
       "      <td>0.142857</td>\n",
       "      <td>0.071429</td>\n",
       "    </tr>\n",
       "    <tr>\n",
       "      <th>48</th>\n",
       "      <td>M.Trubisky</td>\n",
       "      <td>10</td>\n",
       "      <td>8</td>\n",
       "      <td>1</td>\n",
       "      <td>1</td>\n",
       "      <td>0.800000</td>\n",
       "      <td>0.100000</td>\n",
       "      <td>0.100000</td>\n",
       "    </tr>\n",
       "    <tr>\n",
       "      <th>51</th>\n",
       "      <td>P.Rivers</td>\n",
       "      <td>20</td>\n",
       "      <td>16</td>\n",
       "      <td>2</td>\n",
       "      <td>2</td>\n",
       "      <td>0.800000</td>\n",
       "      <td>0.100000</td>\n",
       "      <td>0.100000</td>\n",
       "    </tr>\n",
       "    <tr>\n",
       "      <th>53</th>\n",
       "      <td>R.Fitzpatrick</td>\n",
       "      <td>13</td>\n",
       "      <td>9</td>\n",
       "      <td>0</td>\n",
       "      <td>4</td>\n",
       "      <td>0.692308</td>\n",
       "      <td>0.307692</td>\n",
       "      <td>0.000000</td>\n",
       "    </tr>\n",
       "    <tr>\n",
       "      <th>56</th>\n",
       "      <td>S.Darnold</td>\n",
       "      <td>13</td>\n",
       "      <td>12</td>\n",
       "      <td>0</td>\n",
       "      <td>1</td>\n",
       "      <td>0.923077</td>\n",
       "      <td>0.076923</td>\n",
       "      <td>0.000000</td>\n",
       "    </tr>\n",
       "    <tr>\n",
       "      <th>58</th>\n",
       "      <td>T.Brady</td>\n",
       "      <td>8</td>\n",
       "      <td>8</td>\n",
       "      <td>0</td>\n",
       "      <td>0</td>\n",
       "      <td>1.000000</td>\n",
       "      <td>0.000000</td>\n",
       "      <td>0.000000</td>\n",
       "    </tr>\n",
       "  </tbody>\n",
       "</table>\n",
       "</div>"
      ],
      "text/plain": [
       "           Passer  InterceptionThrown  DB  DL  LB     DBper     LBper  \\\n",
       "0        A.Dalton                  14  10   1   3  0.714286  0.214286   \n",
       "5      B.Mayfield                  21  18   1   2  0.857143  0.095238   \n",
       "11        C.Wentz                   7   7   0   0  1.000000  0.000000   \n",
       "14         D.Carr                   8   8   0   0  1.000000  0.000000   \n",
       "15      D.Haskins                   7   6   0   1  0.857143  0.142857   \n",
       "16       D.Hodges                   8   7   0   1  0.875000  0.125000   \n",
       "18        D.Jones                  12   9   1   2  0.750000  0.166667   \n",
       "20     D.Prescott                  11  10   1   0  0.909091  0.000000   \n",
       "21       D.Watson                  12   9   0   3  0.750000  0.250000   \n",
       "24        J.Allen                   9   7   0   2  0.777778  0.222222   \n",
       "29    J.Garoppolo                  13   9   0   4  0.692308  0.307692   \n",
       "30         J.Goff                  16  11   0   5  0.687500  0.312500   \n",
       "36      J.Winston                  30  20   0  10  0.666667  0.333333   \n",
       "37        K.Allen                  16  10   1   5  0.625000  0.312500   \n",
       "39       K.Murray                  12   9   1   2  0.750000  0.166667   \n",
       "44      M.Rudolph                   9   7   0   2  0.777778  0.222222   \n",
       "45         M.Ryan                  14  11   1   2  0.785714  0.142857   \n",
       "48     M.Trubisky                  10   8   1   1  0.800000  0.100000   \n",
       "51       P.Rivers                  20  16   2   2  0.800000  0.100000   \n",
       "53  R.Fitzpatrick                  13   9   0   4  0.692308  0.307692   \n",
       "56      S.Darnold                  13  12   0   1  0.923077  0.076923   \n",
       "58        T.Brady                   8   8   0   0  1.000000  0.000000   \n",
       "\n",
       "       DLper  \n",
       "0   0.071429  \n",
       "5   0.047619  \n",
       "11  0.000000  \n",
       "14  0.000000  \n",
       "15  0.000000  \n",
       "16  0.000000  \n",
       "18  0.083333  \n",
       "20  0.090909  \n",
       "21  0.000000  \n",
       "24  0.000000  \n",
       "29  0.000000  \n",
       "30  0.000000  \n",
       "36  0.000000  \n",
       "37  0.062500  \n",
       "39  0.083333  \n",
       "44  0.000000  \n",
       "45  0.071429  \n",
       "48  0.100000  \n",
       "51  0.100000  \n",
       "53  0.000000  \n",
       "56  0.000000  \n",
       "58  0.000000  "
      ]
     },
     "execution_count": 681,
     "metadata": {},
     "output_type": "execute_result"
    }
   ],
   "source": [
    "agg[agg['InterceptionThrown'] > 6]"
   ]
  },
  {
   "cell_type": "markdown",
   "metadata": {},
   "source": [
    "##### Plot"
   ]
  },
  {
   "cell_type": "code",
   "execution_count": 666,
   "metadata": {},
   "outputs": [],
   "source": [
    "import matplotlib.pyplot as plt"
   ]
  },
  {
   "cell_type": "code",
   "execution_count": 682,
   "metadata": {},
   "outputs": [],
   "source": [
    "agg = agg[agg['InterceptionThrown'] > 6]"
   ]
  },
  {
   "cell_type": "code",
   "execution_count": 787,
   "metadata": {},
   "outputs": [],
   "source": [
    "fig = plt.figure(figsize=(17, 6))\n",
    "\n",
    "# plot # of Ints\n",
    "agg = agg.sort_values('InterceptionThrown', ascending=False)\n",
    "\n",
    "plt.subplot2grid((1, 2), (0, 0))\n",
    "plt.bar(x=agg['Passer'], height=agg['DB'])\n",
    "plt.bar(x=agg['Passer'], height=agg['LB'], bottom=agg['DB'])\n",
    "plt.bar(x=agg['Passer'], height=agg['DL'], bottom=(agg['DB'] + agg['LB']))\n",
    "plt.ylabel('# of Ints')\n",
    "plt.xticks(rotation=65, fontsize=9)\n",
    "plt.legend(['DB', 'LB', 'DL'])\n",
    "\n",
    "# plot % of Ints\n",
    "agg = agg.sort_values('DBper', ascending=True)\n",
    "\n",
    "plt.subplot2grid((1, 2), (0, 1),)\n",
    "plt.bar(x=agg['Passer'], height=agg['DBper'])\n",
    "plt.bar(x=agg['Passer'], height=agg['LBper'], bottom=agg['DBper'])\n",
    "plt.bar(x=agg['Passer'], height=agg['DLper'], bottom=(agg['DBper'] + agg['LBper']))\n",
    "plt.ylabel('% of Ints')\n",
    "plt.xticks(rotation=65, fontsize=9)\n",
    "plt.legend(['DB', 'LB', 'DL'])\n",
    "\n",
    "fig.suptitle('Passing Interceptions by Position of Interceptor', fontsize=15)\n",
    "fig.subplots_adjust(wspace=.12, bottom=.17)\n",
    "\n",
    "fig.savefig(filepath + 'plot.png')\n",
    "plt.close()"
   ]
  }
 ],
 "metadata": {
  "kernelspec": {
   "display_name": "Python 3",
   "language": "python",
   "name": "python3"
  },
  "language_info": {
   "codemirror_mode": {
    "name": "ipython",
    "version": 3
   },
   "file_extension": ".py",
   "mimetype": "text/x-python",
   "name": "python",
   "nbconvert_exporter": "python",
   "pygments_lexer": "ipython3",
   "version": "3.6.6"
  }
 },
 "nbformat": 4,
 "nbformat_minor": 2
}
